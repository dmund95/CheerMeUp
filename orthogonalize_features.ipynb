{
 "cells": [
  {
   "cell_type": "code",
   "execution_count": 1,
   "metadata": {},
   "outputs": [],
   "source": [
    "import torch\n",
    "import nntools as nt\n",
    "from models import generator,discriminator\n",
    "import matplotlib.pyplot as plt\n",
    "import torchvision\n",
    "import imageio\n",
    "import numpy as np\n",
    "from models.feature_axis import *"
   ]
  },
  {
   "cell_type": "code",
   "execution_count": 2,
   "metadata": {},
   "outputs": [],
   "source": [
    "coeff = np.load('./data/coefficients_tanh_jules.npy')"
   ]
  },
  {
   "cell_type": "code",
   "execution_count": 3,
   "metadata": {},
   "outputs": [],
   "source": [
    "feature_direction = normalize_feature_axis(coeff)"
   ]
  },
  {
   "cell_type": "code",
   "execution_count": 4,
   "metadata": {},
   "outputs": [],
   "source": [
    "len_z, len_y = feature_direction.shape"
   ]
  },
  {
   "cell_type": "code",
   "execution_count": 5,
   "metadata": {},
   "outputs": [],
   "source": [
    "feature_name = ['anger', 'disgust', 'fear', 'joy', 'neutral', 'sadness', 'surprise']"
   ]
  },
  {
   "cell_type": "code",
   "execution_count": 6,
   "metadata": {},
   "outputs": [],
   "source": [
    "feature_direction_disentangled = disentangle_feature_axis_by_idx(feature_direction, idx_base=range(len_y), idx_target=None)"
   ]
  },
  {
   "cell_type": "code",
   "execution_count": 7,
   "metadata": {},
   "outputs": [
    {
     "data": {
      "image/png": "[encoded data removed]",
      "text/plain": [
       "<Figure size 432x288 with 2 Axes>"
      ]
     },
     "metadata": {
      "needs_background": "light"
     },
     "output_type": "display_data"
    },
    {
     "data": {
      "text/plain": [
       "array([[ 9.9999994e-01, -2.6640423e-09,  2.1531207e-08,  2.0775417e-08,\n",
       "         1.6814381e-08,  4.9031467e-08,  2.1440407e-07],\n",
       "       [-2.6640423e-09,  1.0000000e+00,  7.1810035e-08,  5.3837919e-08,\n",
       "         7.5157608e-08,  1.1076327e-07,  3.7330670e-07],\n",
       "       [ 2.1531207e-08,  7.1810035e-08,  1.0000001e+00, -3.3898914e-08,\n",
       "        -1.2518228e-08, -2.9451712e-08, -9.0858805e-08],\n",
       "       [ 2.0775417e-08,  5.3837919e-08, -3.3898914e-08,  1.0000001e+00,\n",
       "        -2.3042425e-08, -2.4194213e-08, -4.3308921e-09],\n",
       "       [ 1.6814381e-08,  7.5157608e-08, -1.2518228e-08, -2.3042425e-08,\n",
       "         9.9999994e-01, -2.5309900e-08, -2.8931592e-07],\n",
       "       [ 4.9031467e-08,  1.1076327e-07, -2.9451712e-08, -2.4194213e-08,\n",
       "        -2.5309900e-08,  1.0000001e+00, -8.0351789e-08],\n",
       "       [ 2.1440407e-07,  3.7330670e-07, -9.0858805e-08, -4.3308921e-09,\n",
       "        -2.8931592e-07, -8.0351789e-08,  9.9999988e-01]], dtype=float32)"
      ]
     },
     "execution_count": 7,
     "metadata": {},
     "output_type": "execute_result"
    }
   ],
   "source": [
    "plot_feature_cos_sim(feature_direction_disentangled[:,:7], feature_name=feature_name)"
   ]
  },
  {
   "cell_type": "code",
   "execution_count": 8,
   "metadata": {},
   "outputs": [],
   "source": [
    "from train import *"
   ]
  },
  {
   "cell_type": "code",
   "execution_count": 9,
   "metadata": {},
   "outputs": [],
   "source": [
    "exp1.load()"
   ]
  },
  {
   "cell_type": "code",
   "execution_count": 10,
   "metadata": {},
   "outputs": [],
   "source": [
    "noise1 = torch.randn(8, args[\"nz\"], 1, 1, device=device)\n",
    "noise2 = torch.ones(8, args[\"nz\"], 1, 1, device=device)\n",
    "# delta = (noise2-noise1)/10"
   ]
  },
  {
   "cell_type": "code",
   "execution_count": 11,
   "metadata": {},
   "outputs": [],
   "source": [
    "feature_direction = feature_direction_disentangled\n",
    "delta = torch.Tensor(feature_direction[:,0]).to(device)\n",
    "delta = delta.unsqueeze(1).unsqueeze(1).unsqueeze(0).expand(8,100,1,1)\n",
    "\n",
    "filenames = []\n",
    "for i in range(20):\n",
    "    img_gen = generator_(noise1 + i*0.5*delta)\n",
    "    torchvision.utils.save_image(img_gen.detach(),f'./test{i}_del.png',normalize=True)\n",
    "    filenames.append(f'./test{i}_del.png')\n",
    "\n",
    "images = []\n",
    "kargs = { 'duration': 1 }\n",
    "for filename in filenames:\n",
    "    images.append(imageio.imread(filename))\n",
    "imageio.mimsave('test.gif', images, 'GIF', **kargs)"
   ]
  },
  {
   "cell_type": "code",
   "execution_count": null,
   "metadata": {},
   "outputs": [],
   "source": []
  }
 ],
 "metadata": {
  "kernelspec": {
   "display_name": "Python 3",
   "language": "python",
   "name": "python3"
  },
  "language_info": {
   "codemirror_mode": {
    "name": "ipython",
    "version": 3
   },
   "file_extension": ".py",
   "mimetype": "text/x-python",
   "name": "python",
   "nbconvert_exporter": "python",
   "pygments_lexer": "ipython3",
   "version": "3.7.3"
  }
 },
 "nbformat": 4,
 "nbformat_minor": 2
}
